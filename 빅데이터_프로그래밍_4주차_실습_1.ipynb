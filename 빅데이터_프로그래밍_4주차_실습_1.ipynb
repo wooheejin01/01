{
  "nbformat": 4,
  "nbformat_minor": 0,
  "metadata": {
    "colab": {
      "provenance": [],
      "authorship_tag": "ABX9TyNs/kwmnLf7yW19d3AAra5V",
      "include_colab_link": true
    },
    "kernelspec": {
      "name": "python3",
      "display_name": "Python 3"
    },
    "language_info": {
      "name": "python"
    }
  },
  "cells": [
    {
      "cell_type": "markdown",
      "metadata": {
        "id": "view-in-github",
        "colab_type": "text"
      },
      "source": [
        "<a href=\"https://colab.research.google.com/github/wooheejin01/01/blob/main/%EB%B9%85%EB%8D%B0%EC%9D%B4%ED%84%B0_%ED%94%84%EB%A1%9C%EA%B7%B8%EB%9E%98%EB%B0%8D_4%EC%A3%BC%EC%B0%A8_%EC%8B%A4%EC%8A%B5_1.ipynb\" target=\"_parent\"><img src=\"https://colab.research.google.com/assets/colab-badge.svg\" alt=\"Open In Colab\"/></a>"
      ]
    },
    {
      "cell_type": "code",
      "execution_count": null,
      "metadata": {
        "id": "9CHSdGztiKiy"
      },
      "outputs": [],
      "source": [
        "import os\n",
        "import sys\n",
        "import urllib.request\n",
        "import datetime\n",
        "import time\n",
        "import json"
      ]
    },
    {
      "cell_type": "code",
      "source": [
        "client_id = '0LHQM4VX_MQM6JfkXofa'\n",
        "client_secret = 'OcPgqpswCg'"
      ],
      "metadata": {
        "id": "hLlTcL7hissk"
      },
      "execution_count": null,
      "outputs": []
    },
    {
      "cell_type": "code",
      "source": [
        "#[CODE 1]\n",
        "def getRequestUrl(url):\n",
        "    req = urllib.request.Request(url)\n",
        "    req.add_header(\"X-Naver-Client-Id\", client_id)\n",
        "    req.add_header(\"X-Naver-Client-Secret\", client_secret)\n",
        "\n",
        "    try:\n",
        "        response = urllib.request.urlopen(req)\n",
        "        if response.getcode() == 200:\n",
        "            print (\"[%s] Url Request Success\" % datetime.datetime.now())\n",
        "            return response.read().decode('utf-8')\n",
        "    except Exception as e:\n",
        "        print(e)\n",
        "        print(\"[%s] Error for URL : %s\" % (datetime.datetime.now(), url))\n",
        "        return None"
      ],
      "metadata": {
        "id": "7cN8yIxZiv7N"
      },
      "execution_count": null,
      "outputs": []
    },
    {
      "cell_type": "code",
      "source": [
        "#[CODE 2]\n",
        "def getNaverSearch(node, srcText, start, display):\n",
        "    base = \"https://openapi.naver.com/v1/search\"\n",
        "    node = \"/%s.json\" % node\n",
        "    parameters = \"?query=%s&start=%s&display=%s\" % (urllib.parse.quote(srcText), start, display)\n",
        "\n",
        "    url = base + node + parameters\n",
        "    responseDecode = getRequestUrl(url)   #[CODE 1]\n",
        "\n",
        "    if (responseDecode == None):\n",
        "        return None\n",
        "    else:\n",
        "        return json.loads(responseDecode)"
      ],
      "metadata": {
        "id": "wurAuFRfiy2T"
      },
      "execution_count": null,
      "outputs": []
    },
    {
      "cell_type": "code",
      "source": [
        "#[CODE 3]\n",
        "def getPostData(post, jsonResult, cnt):\n",
        "    title = post['title']\n",
        "    description = post['description']\n",
        "    org_link = post['originallink']\n",
        "    link = post['link']\n",
        "\n",
        "    pDate = datetime.datetime.strptime(post['pubDate'],  '%a, %d %b %Y %H:%M:%S +0900')\n",
        "    pDate = pDate.strftime('%Y-%m-%d %H:%M:%S')\n",
        "\n",
        "    jsonResult.append({'cnt':cnt, 'title':title, 'description': description,\n",
        "'org_link':org_link,   'link': org_link,   'pDate':pDate})\n",
        "    return"
      ],
      "metadata": {
        "id": "RIukQQP0i3Fc"
      },
      "execution_count": null,
      "outputs": []
    },
    {
      "cell_type": "code",
      "source": [
        "#[CODE 0]\n",
        "def main():\n",
        "    node = 'news'   # 크롤링 할 대상\n",
        "    srcText = input('검색어를 입력하세요: ')\n",
        "    cnt = 0\n",
        "    jsonResult = []\n",
        "\n",
        "    jsonResponse = getNaverSearch(node, srcText, 1, 100)  #[CODE 2]\n",
        "    total = jsonResponse['total']\n",
        "\n",
        "    while ((jsonResponse != None) and (jsonResponse['display'] != 0)):\n",
        "        for post in jsonResponse['items']:\n",
        "            cnt += 1\n",
        "            getPostData(post, jsonResult, cnt)  #[CODE 3]\n",
        "\n",
        "        start = jsonResponse['start'] + jsonResponse['display']\n",
        "        jsonResponse = getNaverSearch(node, srcText, start, 100)  #[CODE 2]\n",
        "\n",
        "    print('전체 검색 : %d 건' %total)\n",
        "\n",
        "    with open('%s_naver_%s.json' % (srcText, node), 'w', encoding='utf8') as outfile:\n",
        "        jsonFile = json.dumps(jsonResult,  indent=4, sort_keys=True,  ensure_ascii=False)\n",
        "\n",
        "        outfile.write(jsonFile)\n",
        "\n",
        "    print(\"가져온 데이터 : %d 건\" %(cnt))\n",
        "    print ('%s_naver_%s.json SAVED' % (srcText, node))\n",
        "\n",
        "if __name__ == '__main__':\n",
        "    main()"
      ],
      "metadata": {
        "colab": {
          "base_uri": "https://localhost:8080/"
        },
        "id": "vJ8da4v7i7QZ",
        "outputId": "755dcc1b-ba33-4d62-af3a-9ea77427b43c"
      },
      "execution_count": null,
      "outputs": [
        {
          "output_type": "stream",
          "name": "stdout",
          "text": [
            "검색어를 입력하세요: 커피\n",
            "[2024-04-29 06:38:41.582670] Url Request Success\n",
            "[2024-04-29 06:38:42.768756] Url Request Success\n",
            "[2024-04-29 06:38:43.933814] Url Request Success\n",
            "[2024-04-29 06:38:45.089390] Url Request Success\n",
            "[2024-04-29 06:38:46.250596] Url Request Success\n",
            "[2024-04-29 06:38:47.425312] Url Request Success\n",
            "[2024-04-29 06:38:48.624478] Url Request Success\n",
            "[2024-04-29 06:38:49.833664] Url Request Success\n",
            "[2024-04-29 06:38:51.023093] Url Request Success\n",
            "[2024-04-29 06:38:52.210548] Url Request Success\n",
            "HTTP Error 400: Bad Request\n",
            "[2024-04-29 06:38:53.134518] Error for URL : https://openapi.naver.com/v1/search/news.json?query=%EC%BB%A4%ED%94%BC&start=1001&display=100\n",
            "전체 검색 : 1983012 건\n",
            "가져온 데이터 : 1000 건\n",
            "커피_naver_news.json SAVED\n"
          ]
        }
      ]
    }
  ]
}